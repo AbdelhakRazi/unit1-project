{
 "cells": [
  {
   "cell_type": "code",
   "execution_count": null,
   "id": "0b94d290-1857-4216-9335-89a3d2c66cf0",
   "metadata": {},
   "outputs": [],
   "source": []
  }
 ],
 "metadata": {
  "kernelspec": {
   "display_name": "Python 3 (ipykernel)",
   "language": "python",
   "name": "python3"
  },
  "language_info": {
   "name": ""
  }
 },
 "nbformat": 4,
 "nbformat_minor": 5
}
